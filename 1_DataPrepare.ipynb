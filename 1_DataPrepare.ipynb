{
 "cells": [
  {
   "cell_type": "code",
   "execution_count": 1,
   "metadata": {},
   "outputs": [],
   "source": [
    "import librosa\n",
    "import datetime\n",
    "import matplotlib.pyplot as plt\n",
    "import numpy as np\n",
    "\n",
    "import IPython.display as ipd\n",
    "import librosa.display\n",
    "import numpy as np\n",
    "import math\n",
    "\n",
    "import tarfile\n",
    "#import zipfile"
   ]
  },
  {
   "cell_type": "code",
   "execution_count": 3,
   "metadata": {},
   "outputs": [],
   "source": [
    "from data_processing.mozilla_common_voice import MozillaCommonVoiceDataset\n",
    "from data_processing.dataset import Dataset\n",
    "from data_processing.feature_extractor import FeatureExtractor\n",
    "import warnings"
   ]
  },
  {
   "cell_type": "code",
   "execution_count": 191,
   "metadata": {},
   "outputs": [
    {
     "name": "stdout",
     "output_type": "stream",
     "text": [
      "--2021-02-01 00:32:01-- OK\n",
      "Length: 3655676916 (3.4G) [application/x-tar]\n",
      "Saving to: ‘ru.tar’\n",
      "\n",
      "100%[====================================>] 3,655,676,916 9.73MB/s   in 6m 25s \n",
      "\n",
      "2021-02-01 00:38:27 (9.07 MB/s) - ‘ru.tar’ saved [3655676916/3655676916]\n",
      "\n"
     ]
    }
   ],
   "source": [
    "##### my dataset #####\n",
    "\n",
    "### downloading from mozilla website requires a fresh regenerated link\n",
    "#!wget 'https://mozilla-common-voice-datasets.s3.dualstack.us-west-2.amazonaws.com/cv-corpus-6.1-2020-12-11/ru.tar.gz?...' -O ru.tar --no-check-certificate"
   ]
  },
  {
   "cell_type": "code",
   "execution_count": null,
   "metadata": {},
   "outputs": [],
   "source": [
    "tar = tarfile.open('../ru.tar', 'r|gz')\n",
    "tar.extractall(path=\"../\")\n",
    "tar.close()"
   ]
  },
  {
   "cell_type": "markdown",
   "metadata": {},
   "source": [
    "### ------------create dataset---------------"
   ]
  },
  {
   "cell_type": "code",
   "execution_count": 16,
   "metadata": {},
   "outputs": [
    {
     "name": "stdout",
     "output_type": "stream",
     "text": [
      "Total number of training examples: 15481\n",
      "# of Training clean files: 13481\n",
      "# of  Validation clean files: 2000\n"
     ]
    }
   ],
   "source": [
    "warnings.filterwarnings(action='ignore')\n",
    "\n",
    "mozilla_basepath = './cv-corpus-6.1-2020-12-11/ru'\n",
    "\n",
    "mcv = MozillaCommonVoiceDataset(mozilla_basepath, val_dataset_size=2000)\n",
    "clean_train_filenames, clean_val_filenames = mcv.get_train_val_filenames()"
   ]
  },
  {
   "cell_type": "code",
   "execution_count": 17,
   "metadata": {},
   "outputs": [
    {
     "name": "stdout",
     "output_type": "stream",
     "text": [
      "Total number of training examples: 8007\n",
      "# of Testing clean files: 8007\n"
     ]
    }
   ],
   "source": [
    "windowLength = 256\n",
    "config = {'windowLength': windowLength,\n",
    "          'overlap': round(0.25 * windowLength),\n",
    "          'fs': 16000,\n",
    "          'audio_max_duration': 0.8}\n",
    "## Create Test Set\n",
    "clean_test_filenames = mcv.get_test_filenames()"
   ]
  },
  {
   "cell_type": "code",
   "execution_count": 18,
   "metadata": {},
   "outputs": [],
   "source": [
    "def mp3_wav(lst):\n",
    "    ls = []\n",
    "    for el in lst:\n",
    "        ls.append(el[:-3] + 'wav')\n",
    "    return ls"
   ]
  },
  {
   "cell_type": "code",
   "execution_count": 19,
   "metadata": {},
   "outputs": [],
   "source": [
    "clean_test_filenames = mp3_wav(clean_test_filenames)\n",
    "clean_train_filenames = mp3_wav(clean_train_filenames)\n",
    "clean_val_filenames = mp3_wav(clean_val_filenames)"
   ]
  },
  {
   "cell_type": "code",
   "execution_count": 20,
   "metadata": {},
   "outputs": [
    {
     "data": {
      "text/plain": [
       "(13481, 2000, 8007)"
      ]
     },
     "execution_count": 20,
     "metadata": {},
     "output_type": "execute_result"
    }
   ],
   "source": [
    "len(clean_train_filenames), len(clean_val_filenames), len(clean_test_filenames)"
   ]
  },
  {
   "cell_type": "code",
   "execution_count": 12,
   "metadata": {},
   "outputs": [
    {
     "data": {
      "text/plain": [
       "'./cv-corpus-6.1-2020-12-11/ru/clips/common_voice_ru_19800825.wav'"
      ]
     },
     "execution_count": 12,
     "metadata": {},
     "output_type": "execute_result"
    }
   ],
   "source": [
    "clean_test_filenames[0]"
   ]
  },
  {
   "cell_type": "code",
   "execution_count": 14,
   "metadata": {},
   "outputs": [],
   "source": [
    "test_dataset = Dataset(clean_test_filenames[:1001], **config)"
   ]
  },
  {
   "cell_type": "code",
   "execution_count": 15,
   "metadata": {},
   "outputs": [
    {
     "name": "stdout",
     "output_type": "stream",
     "text": [
      "Processing files from: 0 to 1000\n",
      "Processing files from: 1000 to 2000\n"
     ]
    }
   ],
   "source": [
    "test_dataset.create_tf_record(prefix='test', subset_size=1000, parallel=True)"
   ]
  },
  {
   "cell_type": "code",
   "execution_count": 21,
   "metadata": {},
   "outputs": [
    {
     "name": "stdout",
     "output_type": "stream",
     "text": [
      "Processing files from: 0 to 2000\n"
     ]
    }
   ],
   "source": [
    "val_dataset = Dataset(clean_val_filenames, **config)\n",
    "val_dataset.create_tf_record(prefix='val', subset_size=2000)"
   ]
  },
  {
   "cell_type": "code",
   "execution_count": null,
   "metadata": {},
   "outputs": [
    {
     "name": "stdout",
     "output_type": "stream",
     "text": [
      "Processing files from: 0 to 4000\n"
     ]
    }
   ],
   "source": [
    "train_dataset = Dataset(clean_train_filenames[:4001], **config)\n",
    "train_dataset.create_tf_record(prefix='train', subset_size=4000)"
   ]
  },
  {
   "cell_type": "code",
   "execution_count": null,
   "metadata": {},
   "outputs": [],
   "source": [
    "### removing leftovers\n",
    "!rm ./records/test_1.tfrecords ./records/train_1.tfrecords"
   ]
  }
 ],
 "metadata": {
  "kernelspec": {
   "display_name": "Python 3",
   "language": "python",
   "name": "python3"
  },
  "language_info": {
   "codemirror_mode": {
    "name": "ipython",
    "version": 3
   },
   "file_extension": ".py",
   "mimetype": "text/x-python",
   "name": "python",
   "nbconvert_exporter": "python",
   "pygments_lexer": "ipython3",
   "version": "3.7.7"
  }
 },
 "nbformat": 4,
 "nbformat_minor": 4
}
